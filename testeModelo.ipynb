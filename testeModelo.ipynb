{
 "cells": [
  {
   "cell_type": "code",
   "execution_count": 1,
   "metadata": {},
   "outputs": [],
   "source": [
    "import pandas as pd"
   ]
  },
  {
   "cell_type": "code",
   "execution_count": 2,
   "metadata": {},
   "outputs": [
    {
     "data": {
      "text/html": [
       "<div>\n",
       "<style scoped>\n",
       "    .dataframe tbody tr th:only-of-type {\n",
       "        vertical-align: middle;\n",
       "    }\n",
       "\n",
       "    .dataframe tbody tr th {\n",
       "        vertical-align: top;\n",
       "    }\n",
       "\n",
       "    .dataframe thead th {\n",
       "        text-align: right;\n",
       "    }\n",
       "</style>\n",
       "<table border=\"1\" class=\"dataframe\">\n",
       "  <thead>\n",
       "    <tr style=\"text-align: right;\">\n",
       "      <th></th>\n",
       "      <th>text_en</th>\n",
       "      <th>text_pt</th>\n",
       "      <th>sentiment</th>\n",
       "    </tr>\n",
       "    <tr>\n",
       "      <th>id</th>\n",
       "      <th></th>\n",
       "      <th></th>\n",
       "      <th></th>\n",
       "    </tr>\n",
       "  </thead>\n",
       "  <tbody>\n",
       "    <tr>\n",
       "      <th>1</th>\n",
       "      <td>Once again Mr. Costner has dragged out a movie...</td>\n",
       "      <td>Mais uma vez, o Sr. Costner arrumou um filme p...</td>\n",
       "      <td>neg</td>\n",
       "    </tr>\n",
       "    <tr>\n",
       "      <th>2</th>\n",
       "      <td>This is an example of why the majority of acti...</td>\n",
       "      <td>Este é um exemplo do motivo pelo qual a maiori...</td>\n",
       "      <td>neg</td>\n",
       "    </tr>\n",
       "    <tr>\n",
       "      <th>3</th>\n",
       "      <td>First of all I hate those moronic rappers, who...</td>\n",
       "      <td>Primeiro de tudo eu odeio esses raps imbecis, ...</td>\n",
       "      <td>neg</td>\n",
       "    </tr>\n",
       "    <tr>\n",
       "      <th>4</th>\n",
       "      <td>Not even the Beatles could write songs everyon...</td>\n",
       "      <td>Nem mesmo os Beatles puderam escrever músicas ...</td>\n",
       "      <td>neg</td>\n",
       "    </tr>\n",
       "    <tr>\n",
       "      <th>5</th>\n",
       "      <td>Brass pictures movies is not a fitting word fo...</td>\n",
       "      <td>Filmes de fotos de latão não é uma palavra apr...</td>\n",
       "      <td>neg</td>\n",
       "    </tr>\n",
       "    <tr>\n",
       "      <th>...</th>\n",
       "      <td>...</td>\n",
       "      <td>...</td>\n",
       "      <td>...</td>\n",
       "    </tr>\n",
       "    <tr>\n",
       "      <th>49456</th>\n",
       "      <td>Seeing as the vote average was pretty low, and...</td>\n",
       "      <td>Como a média de votos era muito baixa, e o fat...</td>\n",
       "      <td>pos</td>\n",
       "    </tr>\n",
       "    <tr>\n",
       "      <th>49457</th>\n",
       "      <td>The plot had some wretched, unbelievable twist...</td>\n",
       "      <td>O enredo teve algumas reviravoltas infelizes e...</td>\n",
       "      <td>pos</td>\n",
       "    </tr>\n",
       "    <tr>\n",
       "      <th>49458</th>\n",
       "      <td>I am amazed at how this movieand most others h...</td>\n",
       "      <td>Estou espantado com a forma como este filme e ...</td>\n",
       "      <td>pos</td>\n",
       "    </tr>\n",
       "    <tr>\n",
       "      <th>49459</th>\n",
       "      <td>A Christmas Together actually came before my t...</td>\n",
       "      <td>A Christmas Together realmente veio antes do m...</td>\n",
       "      <td>pos</td>\n",
       "    </tr>\n",
       "    <tr>\n",
       "      <th>49460</th>\n",
       "      <td>Working-class romantic drama from director Mar...</td>\n",
       "      <td>O drama romântico da classe trabalhadora do di...</td>\n",
       "      <td>pos</td>\n",
       "    </tr>\n",
       "  </tbody>\n",
       "</table>\n",
       "<p>49459 rows × 3 columns</p>\n",
       "</div>"
      ],
      "text/plain": [
       "                                                 text_en  \\\n",
       "id                                                         \n",
       "1      Once again Mr. Costner has dragged out a movie...   \n",
       "2      This is an example of why the majority of acti...   \n",
       "3      First of all I hate those moronic rappers, who...   \n",
       "4      Not even the Beatles could write songs everyon...   \n",
       "5      Brass pictures movies is not a fitting word fo...   \n",
       "...                                                  ...   \n",
       "49456  Seeing as the vote average was pretty low, and...   \n",
       "49457  The plot had some wretched, unbelievable twist...   \n",
       "49458  I am amazed at how this movieand most others h...   \n",
       "49459  A Christmas Together actually came before my t...   \n",
       "49460  Working-class romantic drama from director Mar...   \n",
       "\n",
       "                                                 text_pt sentiment  \n",
       "id                                                                  \n",
       "1      Mais uma vez, o Sr. Costner arrumou um filme p...       neg  \n",
       "2      Este é um exemplo do motivo pelo qual a maiori...       neg  \n",
       "3      Primeiro de tudo eu odeio esses raps imbecis, ...       neg  \n",
       "4      Nem mesmo os Beatles puderam escrever músicas ...       neg  \n",
       "5      Filmes de fotos de latão não é uma palavra apr...       neg  \n",
       "...                                                  ...       ...  \n",
       "49456  Como a média de votos era muito baixa, e o fat...       pos  \n",
       "49457  O enredo teve algumas reviravoltas infelizes e...       pos  \n",
       "49458  Estou espantado com a forma como este filme e ...       pos  \n",
       "49459  A Christmas Together realmente veio antes do m...       pos  \n",
       "49460  O drama romântico da classe trabalhadora do di...       pos  \n",
       "\n",
       "[49459 rows x 3 columns]"
      ]
     },
     "metadata": {},
     "output_type": "display_data"
    }
   ],
   "source": [
    "data = pd.read_csv('data/imdb-reviews-pt-br.csv', index_col=0)\n",
    "display(data)"
   ]
  },
  {
   "cell_type": "code",
   "execution_count": 3,
   "metadata": {},
   "outputs": [
    {
     "data": {
      "text/plain": [
       "<AxesSubplot: ylabel='count'>"
      ]
     },
     "execution_count": 3,
     "metadata": {},
     "output_type": "execute_result"
    },
    {
     "data": {
      "image/png": "[encoded data removed]",
      "text/plain": [
       "<Figure size 640x480 with 1 Axes>"
      ]
     },
     "metadata": {},
     "output_type": "display_data"
    }
   ],
   "source": [
    "data['sentiment'].value_counts().plot.pie(autopct='%.2f', explode=[0.01, 0])"
   ]
  },
  {
   "cell_type": "code",
   "execution_count": 4,
   "metadata": {},
   "outputs": [
    {
     "name": "stdout",
     "output_type": "stream",
     "text": [
      "Training samples: 44515\n",
      "Dev samples:      2472\n",
      "Test samples:     2472\n"
     ]
    }
   ],
   "source": [
    "from sklearn.model_selection import train_test_split\n",
    "\n",
    "test_dev_size = int(0.05*data.shape[0])\n",
    "train_dev, test = train_test_split(data, test_size=test_dev_size, random_state=42, stratify=data['sentiment'])\n",
    "train, dev = train_test_split(train_dev, test_size=test_dev_size, random_state=42, stratify=train_dev['sentiment'])\n",
    "print('Training samples:', train.shape[0])\n",
    "print('Dev samples:     ', dev.shape[0])\n",
    "print('Test samples:    ', test.shape[0])"
   ]
  },
  {
   "cell_type": "code",
   "execution_count": 5,
   "metadata": {},
   "outputs": [],
   "source": [
    "from torch.utils.data import Dataset\n",
    "\n",
    "\n",
    "class ImdbPt(Dataset):\n",
    "    ''' Loads IMDB-pt dataset. \n",
    "    \n",
    "    It will tokenize our inputs and cut-off sentences that exceed 512 tokens (the pretrained BERT limit)\n",
    "    '''\n",
    "    def __init__(self, tokenizer, X, y):\n",
    "        X = list(X)\n",
    "        y = list(y)\n",
    "        tokenized_data = tokenizer(X, truncation=True, max_length=512)\n",
    "        samples = [\n",
    "            {\n",
    "                **{key: tokenized_data[key][i] for key in tokenized_data},\n",
    "                'labels': y[i]\n",
    "            }\n",
    "             \n",
    "            for i in range(len(X))\n",
    "        ]\n",
    "        self.samples = samples\n",
    "    \n",
    "    def __getitem__(self, i):\n",
    "        return self.samples[i]\n",
    "    \n",
    "    def __len__(self):\n",
    "        return len(self.samples)"
   ]
  },
  {
   "cell_type": "code",
   "execution_count": 6,
   "metadata": {},
   "outputs": [],
   "source": [
    "def send_inputs_to_device(inputs, device):\n",
    "    return {key:tensor.to(device) for key, tensor in inputs.items()}"
   ]
  },
  {
   "cell_type": "code",
   "execution_count": 7,
   "metadata": {},
   "outputs": [],
   "source": [
    "from torch.utils.data import DataLoader\n",
    "from transformers import DataCollatorWithPadding\n",
    "from transformers import BertTokenizer\n",
    "\n",
    "\n",
    "tokenizer = BertTokenizer.from_pretrained('neuralmind/bert-base-portuguese-cased')\n",
    "train_dataset = ImdbPt(tokenizer, train['text_pt'], (train['sentiment'] == 'pos').astype(int))\n",
    "dev_dataset   = ImdbPt(tokenizer, dev['text_pt'], (dev['sentiment'] == 'pos').astype(int))\n",
    "test_dataset  = ImdbPt(tokenizer, test['text_pt'], (test['sentiment'] == 'pos').astype(int))"
   ]
  },
  {
   "cell_type": "code",
   "execution_count": 8,
   "metadata": {},
   "outputs": [],
   "source": [
    "\n",
    "\n",
    "train_loader = DataLoader(train_dataset, batch_size=8, collate_fn=DataCollatorWithPadding(tokenizer))\n",
    "dev_loader = DataLoader(dev_dataset, batch_size=16, collate_fn=DataCollatorWithPadding(tokenizer))\n",
    "test_loader = DataLoader(test_dataset, batch_size=16, collate_fn=DataCollatorWithPadding(tokenizer))"
   ]
  },
  {
   "cell_type": "code",
   "execution_count": 9,
   "metadata": {},
   "outputs": [
    {
     "name": "stderr",
     "output_type": "stream",
     "text": [
      "Some weights of BertForSequenceClassification were not initialized from the model checkpoint at neuralmind/bert-base-portuguese-cased and are newly initialized: ['classifier.weight', 'classifier.bias']\n",
      "You should probably TRAIN this model on a down-stream task to be able to use it for predictions and inference.\n",
      "c:\\Users\\João Vitor\\AppData\\Local\\Programs\\Python\\Python310\\lib\\site-packages\\transformers\\optimization.py:411: FutureWarning: This implementation of AdamW is deprecated and will be removed in a future version. Use the PyTorch implementation torch.optim.AdamW instead, or set `no_deprecation_warning=True` to disable this warning\n",
      "  warnings.warn(\n"
     ]
    }
   ],
   "source": [
    "import torch \n",
    "from transformers import BertForSequenceClassification\n",
    "from transformers import AdamW\n",
    "\n",
    "model = BertForSequenceClassification.from_pretrained(\n",
    "    'neuralmind/bert-base-portuguese-cased')\n",
    "model.train()\n",
    "\n",
    "device = torch.device('cuda' if torch.cuda.is_available() else 'cpu')\n",
    "\n",
    "model.to(device)\n",
    "\n",
    "optimizer = AdamW(model.parameters(), lr=5e-6)\n",
    "scheduler = torch.optim.lr_scheduler.ExponentialLR(optimizer, 0.9997)\n",
    "\n",
    "\n",
    "for param in model.base_model.parameters():\n",
    "    param.requires_grad = False"
   ]
  },
  {
   "cell_type": "code",
   "execution_count": 10,
   "metadata": {},
   "outputs": [],
   "source": [
    "import numpy as np\n",
    "def evaluate(model, dev_loader, device):\n",
    "    with torch.no_grad():\n",
    "        model.eval()\n",
    "        dev_losses = []\n",
    "        tp, tn, fp, fn = [], [], [], []\n",
    "        for inputs in dev_loader:\n",
    "            inputs = send_inputs_to_device(inputs, device)\n",
    "            loss, scores = model(**inputs)[:2]\n",
    "            dev_losses.append(loss.cpu().item())\n",
    "\n",
    "            _, classification = torch.max(scores, 1)\n",
    "            labels = inputs['labels']\n",
    "            tp.append(((classification==1) & (labels==1)).sum().cpu().item())\n",
    "            tn.append(((classification==0) & (labels==0)).sum().cpu().item())\n",
    "            fp.append(((classification==1) & (labels==0)).sum().cpu().item())\n",
    "            fn.append(((classification==0) & (labels==1)).sum().cpu().item())\n",
    "\n",
    "        tp_s, tn_s, fp_s, fn_s = sum(tp), sum(tn), sum(fp), sum(fn)\n",
    "        print('Dev loss: {:.2f}; Acc: {:.2f}; tp: {}; tn: {}; fp: {}; fn: {}'.format( \n",
    "              np.mean(dev_losses), (tp_s+tn_s)/(tp_s+tn_s+fp_s+fn_s), tp_s, tn_s, fp_s, fn_s))\n",
    "\n",
    "        model.train()"
   ]
  },
  {
   "cell_type": "code",
   "execution_count": 11,
   "metadata": {},
   "outputs": [
    {
     "name": "stderr",
     "output_type": "stream",
     "text": [
      "C:\\Users\\João Vitor\\AppData\\Local\\Temp\\ipykernel_13944\\1419208846.py:3: TqdmDeprecationWarning: This function will be removed in tqdm==5.0.0\n",
      "Please use `tqdm.notebook.tqdm` instead of `tqdm.tqdm_notebook`\n",
      "  epoch_bar = tqdm_notebook(range(1))\n"
     ]
    },
    {
     "data": {
      "application/vnd.jupyter.widget-view+json": {
       "model_id": "01427d27f4d941b5a6362c6bc46f2a92",
       "version_major": 2,
       "version_minor": 0
      },
      "text/plain": [
       "  0%|          | 0/1 [00:00<?, ?it/s]"
      ]
     },
     "metadata": {},
     "output_type": "display_data"
    },
    {
     "name": "stderr",
     "output_type": "stream",
     "text": [
      "C:\\Users\\João Vitor\\AppData\\Local\\Temp\\ipykernel_13944\\1419208846.py:7: TqdmDeprecationWarning: This function will be removed in tqdm==5.0.0\n",
      "Please use `tqdm.notebook.tqdm` instead of `tqdm.tqdm_notebook`\n",
      "  batch_bar = tqdm_notebook(enumerate(train_loader), desc=f'Epoch {epoch}', total=len(train_loader))\n"
     ]
    },
    {
     "data": {
      "application/vnd.jupyter.widget-view+json": {
       "model_id": "e27708a1916b4cba9b08a9539fec6a1b",
       "version_major": 2,
       "version_minor": 0
      },
      "text/plain": [
       "Epoch 0:   0%|          | 0/5565 [00:00<?, ?it/s]"
      ]
     },
     "metadata": {},
     "output_type": "display_data"
    },
    {
     "name": "stdout",
     "output_type": "stream",
     "text": [
      "Dev loss: 0.70; Acc: 0.49; tp: 1184; tn: 37; fp: 1201; fn: 50\n",
      "Dev loss: 0.70; Acc: 0.50; tp: 1150; tn: 95; fp: 1143; fn: 84\n",
      "Dev loss: 0.69; Acc: 0.52; tp: 1102; tn: 181; fp: 1057; fn: 132\n",
      "Dev loss: 0.69; Acc: 0.54; tp: 1050; tn: 273; fp: 965; fn: 184\n",
      "Dev loss: 0.69; Acc: 0.54; tp: 1050; tn: 287; fp: 951; fn: 184\n",
      "Dev loss: 0.43; Acc: 0.85; tp: 976; tn: 1123; fp: 115; fn: 258\n",
      "Dev loss: 0.32; Acc: 0.88; tp: 984; tn: 1184; fp: 54; fn: 250\n",
      "Dev loss: 0.26; Acc: 0.90; tp: 1149; tn: 1065; fp: 173; fn: 85\n",
      "Dev loss: 0.24; Acc: 0.91; tp: 1141; tn: 1103; fp: 135; fn: 93\n",
      "Dev loss: 0.23; Acc: 0.91; tp: 1128; tn: 1127; fp: 111; fn: 106\n",
      "Dev loss: 0.25; Acc: 0.90; tp: 1167; tn: 1063; fp: 175; fn: 67\n",
      "Dev loss: 0.24; Acc: 0.91; tp: 1167; tn: 1072; fp: 166; fn: 67\n",
      "Dev loss: 0.23; Acc: 0.92; tp: 1104; tn: 1159; fp: 79; fn: 130\n",
      "Dev loss: 0.22; Acc: 0.92; tp: 1130; tn: 1135; fp: 103; fn: 104\n",
      "Dev loss: 0.23; Acc: 0.91; tp: 1163; tn: 1093; fp: 145; fn: 71\n",
      "Dev loss: 0.22; Acc: 0.92; tp: 1136; tn: 1133; fp: 105; fn: 98\n",
      "Dev loss: 0.21; Acc: 0.92; tp: 1139; tn: 1136; fp: 102; fn: 95\n",
      "Dev loss: 0.22; Acc: 0.92; tp: 1151; tn: 1117; fp: 121; fn: 83\n",
      "Dev loss: 0.21; Acc: 0.92; tp: 1137; tn: 1133; fp: 105; fn: 97\n",
      "Dev loss: 0.21; Acc: 0.92; tp: 1145; tn: 1128; fp: 110; fn: 89\n",
      "Dev loss: 0.21; Acc: 0.92; tp: 1129; tn: 1140; fp: 98; fn: 105\n",
      "Dev loss: 0.21; Acc: 0.92; tp: 1156; tn: 1107; fp: 131; fn: 78\n",
      "Dev loss: 0.20; Acc: 0.92; tp: 1139; tn: 1133; fp: 105; fn: 95\n",
      "Dev loss: 0.20; Acc: 0.92; tp: 1142; tn: 1131; fp: 107; fn: 92\n",
      "Dev loss: 0.21; Acc: 0.92; tp: 1149; tn: 1125; fp: 113; fn: 85\n",
      "Dev loss: 0.20; Acc: 0.92; tp: 1137; tn: 1142; fp: 96; fn: 97\n",
      "Dev loss: 0.20; Acc: 0.92; tp: 1147; tn: 1134; fp: 104; fn: 87\n",
      "Dev loss: 0.20; Acc: 0.92; tp: 1148; tn: 1135; fp: 103; fn: 86\n"
     ]
    }
   ],
   "source": [
    "from tqdm import tqdm_notebook\n",
    "import os\n",
    "epoch_bar = tqdm_notebook(range(1))\n",
    "loss_acc = 0\n",
    "alpha = 0.95\n",
    "for epoch in epoch_bar:\n",
    "    batch_bar = tqdm_notebook(enumerate(train_loader), desc=f'Epoch {epoch}', total=len(train_loader))\n",
    "    for idx, inputs in batch_bar:\n",
    "        if (epoch * len(train_loader) + idx) == 800:\n",
    "            for param in model.base_model.parameters():\n",
    "                param.requires_grad = True\n",
    "\n",
    "        inputs = send_inputs_to_device(inputs, device)\n",
    "        optimizer.zero_grad()\n",
    "        loss, logits = model(**inputs)[:2]\n",
    "        \n",
    "        loss.backward()\n",
    "        optimizer.step()\n",
    "        if epoch == 0 and idx == 0:\n",
    "            loss_acc = loss.cpu().item()\n",
    "        else:\n",
    "            loss_acc = loss_acc * alpha + (1-alpha) * loss.cpu().item()\n",
    "        batch_bar.set_postfix(loss=loss_acc)\n",
    "        if idx%200 == 0:\n",
    "            del inputs\n",
    "            del loss\n",
    "            evaluate(model, dev_loader, device)\n",
    "\n",
    "        scheduler.step()\n",
    "\n",
    "\n",
    "        \n",
    "    os.makedirs('/kaggle/working/checkpoints/epoch'+str(epoch))\n",
    "    model.save_pretrained('/kaggle/working/checkpoints/epoch'+str(epoch))"
   ]
  },
  {
   "cell_type": "code",
   "execution_count": 76,
   "metadata": {},
   "outputs": [
    {
     "name": "stdout",
     "output_type": "stream",
     "text": [
      "['positivo']\n",
      "tensor(0.6382, grad_fn=<SelectBackward0>)\n"
     ]
    }
   ],
   "source": [
    "import torch\n",
    "import torch.nn.functional as F\n",
    " \n",
    "inputs = tokenizer(\"\", return_tensors=\"pt\")\n",
    "output = model(**inputs)\n",
    "scores = output['logits']\n",
    "prob_pos = F.softmax(scores, dim=1)[:,1]\n",
    "\n",
    "limiar_positivo = 0.6\n",
    "limiar_negativo = 0.4\n",
    "\n",
    "# Categoriza com base nos limiares\n",
    "categorias = []\n",
    "for prob in prob_pos:\n",
    "    if prob_pos[0] >= limiar_positivo:\n",
    "        categorias.append(\"positivo\")\n",
    "    elif prob_pos[0] <= limiar_negativo:\n",
    "        categorias.append(\"negativo\")\n",
    "    else:\n",
    "        categorias.append(\"neutro\")\n",
    "\n",
    "# categorias agora contém as categorias atribuídas com base nos limiares\n",
    "print(categorias)\n",
    "\n",
    "print(prob_pos[0])"
   ]
  },
  {
   "cell_type": "code",
   "execution_count": 82,
   "metadata": {},
   "outputs": [
    {
     "ename": "RuntimeError",
     "evalue": "The size of tensor a (729) must match the size of tensor b (512) at non-singleton dimension 1",
     "output_type": "error",
     "traceback": [
      "\u001b[1;31m---------------------------------------------------------------------------\u001b[0m",
      "\u001b[1;31mRuntimeError\u001b[0m                              Traceback (most recent call last)",
      "\u001b[1;32mc:\\Users\\João Vitor\\Desktop\\tcc\\TCC\\testeModelo.ipynb Cell 13\u001b[0m line \u001b[0;36m1\n\u001b[0;32m     <a href='vscode-notebook-cell:/c%3A/Users/Jo%C3%A3o%20Vitor/Desktop/tcc/TCC/testeModelo.ipynb#X15sZmlsZQ%3D%3D?line=10'>11</a>\u001b[0m \u001b[39mfor\u001b[39;00m frase \u001b[39min\u001b[39;00m df[\u001b[39m'\u001b[39m\u001b[39mreview_text_processed\u001b[39m\u001b[39m'\u001b[39m]:\n\u001b[0;32m     <a href='vscode-notebook-cell:/c%3A/Users/Jo%C3%A3o%20Vitor/Desktop/tcc/TCC/testeModelo.ipynb#X15sZmlsZQ%3D%3D?line=11'>12</a>\u001b[0m     inputs \u001b[39m=\u001b[39m tokenizer(frase, return_tensors\u001b[39m=\u001b[39m\u001b[39m\"\u001b[39m\u001b[39mpt\u001b[39m\u001b[39m\"\u001b[39m)\n\u001b[1;32m---> <a href='vscode-notebook-cell:/c%3A/Users/Jo%C3%A3o%20Vitor/Desktop/tcc/TCC/testeModelo.ipynb#X15sZmlsZQ%3D%3D?line=12'>13</a>\u001b[0m     output \u001b[39m=\u001b[39m model(\u001b[39m*\u001b[39m\u001b[39m*\u001b[39minputs)\n\u001b[0;32m     <a href='vscode-notebook-cell:/c%3A/Users/Jo%C3%A3o%20Vitor/Desktop/tcc/TCC/testeModelo.ipynb#X15sZmlsZQ%3D%3D?line=13'>14</a>\u001b[0m     scores \u001b[39m=\u001b[39m output[\u001b[39m'\u001b[39m\u001b[39mlogits\u001b[39m\u001b[39m'\u001b[39m]\n\u001b[0;32m     <a href='vscode-notebook-cell:/c%3A/Users/Jo%C3%A3o%20Vitor/Desktop/tcc/TCC/testeModelo.ipynb#X15sZmlsZQ%3D%3D?line=14'>15</a>\u001b[0m     prob_pos \u001b[39m=\u001b[39m F\u001b[39m.\u001b[39msoftmax(scores, dim\u001b[39m=\u001b[39m\u001b[39m1\u001b[39m)[:, \u001b[39m1\u001b[39m]\n",
      "File \u001b[1;32mc:\\Users\\João Vitor\\AppData\\Local\\Programs\\Python\\Python310\\lib\\site-packages\\torch\\nn\\modules\\module.py:1501\u001b[0m, in \u001b[0;36mModule._call_impl\u001b[1;34m(self, *args, **kwargs)\u001b[0m\n\u001b[0;32m   1496\u001b[0m \u001b[39m# If we don't have any hooks, we want to skip the rest of the logic in\u001b[39;00m\n\u001b[0;32m   1497\u001b[0m \u001b[39m# this function, and just call forward.\u001b[39;00m\n\u001b[0;32m   1498\u001b[0m \u001b[39mif\u001b[39;00m \u001b[39mnot\u001b[39;00m (\u001b[39mself\u001b[39m\u001b[39m.\u001b[39m_backward_hooks \u001b[39mor\u001b[39;00m \u001b[39mself\u001b[39m\u001b[39m.\u001b[39m_backward_pre_hooks \u001b[39mor\u001b[39;00m \u001b[39mself\u001b[39m\u001b[39m.\u001b[39m_forward_hooks \u001b[39mor\u001b[39;00m \u001b[39mself\u001b[39m\u001b[39m.\u001b[39m_forward_pre_hooks\n\u001b[0;32m   1499\u001b[0m         \u001b[39mor\u001b[39;00m _global_backward_pre_hooks \u001b[39mor\u001b[39;00m _global_backward_hooks\n\u001b[0;32m   1500\u001b[0m         \u001b[39mor\u001b[39;00m _global_forward_hooks \u001b[39mor\u001b[39;00m _global_forward_pre_hooks):\n\u001b[1;32m-> 1501\u001b[0m     \u001b[39mreturn\u001b[39;00m forward_call(\u001b[39m*\u001b[39margs, \u001b[39m*\u001b[39m\u001b[39m*\u001b[39mkwargs)\n\u001b[0;32m   1502\u001b[0m \u001b[39m# Do not call functions when jit is used\u001b[39;00m\n\u001b[0;32m   1503\u001b[0m full_backward_hooks, non_full_backward_hooks \u001b[39m=\u001b[39m [], []\n",
      "File \u001b[1;32mc:\\Users\\João Vitor\\AppData\\Local\\Programs\\Python\\Python310\\lib\\site-packages\\transformers\\models\\bert\\modeling_bert.py:1562\u001b[0m, in \u001b[0;36mBertForSequenceClassification.forward\u001b[1;34m(self, input_ids, attention_mask, token_type_ids, position_ids, head_mask, inputs_embeds, labels, output_attentions, output_hidden_states, return_dict)\u001b[0m\n\u001b[0;32m   1554\u001b[0m \u001b[39m\u001b[39m\u001b[39mr\u001b[39m\u001b[39m\"\"\"\u001b[39;00m\n\u001b[0;32m   1555\u001b[0m \u001b[39mlabels (`torch.LongTensor` of shape `(batch_size,)`, *optional*):\u001b[39;00m\n\u001b[0;32m   1556\u001b[0m \u001b[39m    Labels for computing the sequence classification/regression loss. Indices should be in `[0, ...,\u001b[39;00m\n\u001b[0;32m   1557\u001b[0m \u001b[39m    config.num_labels - 1]`. If `config.num_labels == 1` a regression loss is computed (Mean-Square loss), If\u001b[39;00m\n\u001b[0;32m   1558\u001b[0m \u001b[39m    `config.num_labels > 1` a classification loss is computed (Cross-Entropy).\u001b[39;00m\n\u001b[0;32m   1559\u001b[0m \u001b[39m\"\"\"\u001b[39;00m\n\u001b[0;32m   1560\u001b[0m return_dict \u001b[39m=\u001b[39m return_dict \u001b[39mif\u001b[39;00m return_dict \u001b[39mis\u001b[39;00m \u001b[39mnot\u001b[39;00m \u001b[39mNone\u001b[39;00m \u001b[39melse\u001b[39;00m \u001b[39mself\u001b[39m\u001b[39m.\u001b[39mconfig\u001b[39m.\u001b[39muse_return_dict\n\u001b[1;32m-> 1562\u001b[0m outputs \u001b[39m=\u001b[39m \u001b[39mself\u001b[39;49m\u001b[39m.\u001b[39;49mbert(\n\u001b[0;32m   1563\u001b[0m     input_ids,\n\u001b[0;32m   1564\u001b[0m     attention_mask\u001b[39m=\u001b[39;49mattention_mask,\n\u001b[0;32m   1565\u001b[0m     token_type_ids\u001b[39m=\u001b[39;49mtoken_type_ids,\n\u001b[0;32m   1566\u001b[0m     position_ids\u001b[39m=\u001b[39;49mposition_ids,\n\u001b[0;32m   1567\u001b[0m     head_mask\u001b[39m=\u001b[39;49mhead_mask,\n\u001b[0;32m   1568\u001b[0m     inputs_embeds\u001b[39m=\u001b[39;49minputs_embeds,\n\u001b[0;32m   1569\u001b[0m     output_attentions\u001b[39m=\u001b[39;49moutput_attentions,\n\u001b[0;32m   1570\u001b[0m     output_hidden_states\u001b[39m=\u001b[39;49moutput_hidden_states,\n\u001b[0;32m   1571\u001b[0m     return_dict\u001b[39m=\u001b[39;49mreturn_dict,\n\u001b[0;32m   1572\u001b[0m )\n\u001b[0;32m   1574\u001b[0m pooled_output \u001b[39m=\u001b[39m outputs[\u001b[39m1\u001b[39m]\n\u001b[0;32m   1576\u001b[0m pooled_output \u001b[39m=\u001b[39m \u001b[39mself\u001b[39m\u001b[39m.\u001b[39mdropout(pooled_output)\n",
      "File \u001b[1;32mc:\\Users\\João Vitor\\AppData\\Local\\Programs\\Python\\Python310\\lib\\site-packages\\torch\\nn\\modules\\module.py:1501\u001b[0m, in \u001b[0;36mModule._call_impl\u001b[1;34m(self, *args, **kwargs)\u001b[0m\n\u001b[0;32m   1496\u001b[0m \u001b[39m# If we don't have any hooks, we want to skip the rest of the logic in\u001b[39;00m\n\u001b[0;32m   1497\u001b[0m \u001b[39m# this function, and just call forward.\u001b[39;00m\n\u001b[0;32m   1498\u001b[0m \u001b[39mif\u001b[39;00m \u001b[39mnot\u001b[39;00m (\u001b[39mself\u001b[39m\u001b[39m.\u001b[39m_backward_hooks \u001b[39mor\u001b[39;00m \u001b[39mself\u001b[39m\u001b[39m.\u001b[39m_backward_pre_hooks \u001b[39mor\u001b[39;00m \u001b[39mself\u001b[39m\u001b[39m.\u001b[39m_forward_hooks \u001b[39mor\u001b[39;00m \u001b[39mself\u001b[39m\u001b[39m.\u001b[39m_forward_pre_hooks\n\u001b[0;32m   1499\u001b[0m         \u001b[39mor\u001b[39;00m _global_backward_pre_hooks \u001b[39mor\u001b[39;00m _global_backward_hooks\n\u001b[0;32m   1500\u001b[0m         \u001b[39mor\u001b[39;00m _global_forward_hooks \u001b[39mor\u001b[39;00m _global_forward_pre_hooks):\n\u001b[1;32m-> 1501\u001b[0m     \u001b[39mreturn\u001b[39;00m forward_call(\u001b[39m*\u001b[39margs, \u001b[39m*\u001b[39m\u001b[39m*\u001b[39mkwargs)\n\u001b[0;32m   1502\u001b[0m \u001b[39m# Do not call functions when jit is used\u001b[39;00m\n\u001b[0;32m   1503\u001b[0m full_backward_hooks, non_full_backward_hooks \u001b[39m=\u001b[39m [], []\n",
      "File \u001b[1;32mc:\\Users\\João Vitor\\AppData\\Local\\Programs\\Python\\Python310\\lib\\site-packages\\transformers\\models\\bert\\modeling_bert.py:1015\u001b[0m, in \u001b[0;36mBertModel.forward\u001b[1;34m(self, input_ids, attention_mask, token_type_ids, position_ids, head_mask, inputs_embeds, encoder_hidden_states, encoder_attention_mask, past_key_values, use_cache, output_attentions, output_hidden_states, return_dict)\u001b[0m\n\u001b[0;32m   1008\u001b[0m \u001b[39m# Prepare head mask if needed\u001b[39;00m\n\u001b[0;32m   1009\u001b[0m \u001b[39m# 1.0 in head_mask indicate we keep the head\u001b[39;00m\n\u001b[0;32m   1010\u001b[0m \u001b[39m# attention_probs has shape bsz x n_heads x N x N\u001b[39;00m\n\u001b[0;32m   1011\u001b[0m \u001b[39m# input head_mask has shape [num_heads] or [num_hidden_layers x num_heads]\u001b[39;00m\n\u001b[0;32m   1012\u001b[0m \u001b[39m# and head_mask is converted to shape [num_hidden_layers x batch x num_heads x seq_length x seq_length]\u001b[39;00m\n\u001b[0;32m   1013\u001b[0m head_mask \u001b[39m=\u001b[39m \u001b[39mself\u001b[39m\u001b[39m.\u001b[39mget_head_mask(head_mask, \u001b[39mself\u001b[39m\u001b[39m.\u001b[39mconfig\u001b[39m.\u001b[39mnum_hidden_layers)\n\u001b[1;32m-> 1015\u001b[0m embedding_output \u001b[39m=\u001b[39m \u001b[39mself\u001b[39;49m\u001b[39m.\u001b[39;49membeddings(\n\u001b[0;32m   1016\u001b[0m     input_ids\u001b[39m=\u001b[39;49minput_ids,\n\u001b[0;32m   1017\u001b[0m     position_ids\u001b[39m=\u001b[39;49mposition_ids,\n\u001b[0;32m   1018\u001b[0m     token_type_ids\u001b[39m=\u001b[39;49mtoken_type_ids,\n\u001b[0;32m   1019\u001b[0m     inputs_embeds\u001b[39m=\u001b[39;49minputs_embeds,\n\u001b[0;32m   1020\u001b[0m     past_key_values_length\u001b[39m=\u001b[39;49mpast_key_values_length,\n\u001b[0;32m   1021\u001b[0m )\n\u001b[0;32m   1022\u001b[0m encoder_outputs \u001b[39m=\u001b[39m \u001b[39mself\u001b[39m\u001b[39m.\u001b[39mencoder(\n\u001b[0;32m   1023\u001b[0m     embedding_output,\n\u001b[0;32m   1024\u001b[0m     attention_mask\u001b[39m=\u001b[39mextended_attention_mask,\n\u001b[1;32m   (...)\u001b[0m\n\u001b[0;32m   1032\u001b[0m     return_dict\u001b[39m=\u001b[39mreturn_dict,\n\u001b[0;32m   1033\u001b[0m )\n\u001b[0;32m   1034\u001b[0m sequence_output \u001b[39m=\u001b[39m encoder_outputs[\u001b[39m0\u001b[39m]\n",
      "File \u001b[1;32mc:\\Users\\João Vitor\\AppData\\Local\\Programs\\Python\\Python310\\lib\\site-packages\\torch\\nn\\modules\\module.py:1501\u001b[0m, in \u001b[0;36mModule._call_impl\u001b[1;34m(self, *args, **kwargs)\u001b[0m\n\u001b[0;32m   1496\u001b[0m \u001b[39m# If we don't have any hooks, we want to skip the rest of the logic in\u001b[39;00m\n\u001b[0;32m   1497\u001b[0m \u001b[39m# this function, and just call forward.\u001b[39;00m\n\u001b[0;32m   1498\u001b[0m \u001b[39mif\u001b[39;00m \u001b[39mnot\u001b[39;00m (\u001b[39mself\u001b[39m\u001b[39m.\u001b[39m_backward_hooks \u001b[39mor\u001b[39;00m \u001b[39mself\u001b[39m\u001b[39m.\u001b[39m_backward_pre_hooks \u001b[39mor\u001b[39;00m \u001b[39mself\u001b[39m\u001b[39m.\u001b[39m_forward_hooks \u001b[39mor\u001b[39;00m \u001b[39mself\u001b[39m\u001b[39m.\u001b[39m_forward_pre_hooks\n\u001b[0;32m   1499\u001b[0m         \u001b[39mor\u001b[39;00m _global_backward_pre_hooks \u001b[39mor\u001b[39;00m _global_backward_hooks\n\u001b[0;32m   1500\u001b[0m         \u001b[39mor\u001b[39;00m _global_forward_hooks \u001b[39mor\u001b[39;00m _global_forward_pre_hooks):\n\u001b[1;32m-> 1501\u001b[0m     \u001b[39mreturn\u001b[39;00m forward_call(\u001b[39m*\u001b[39margs, \u001b[39m*\u001b[39m\u001b[39m*\u001b[39mkwargs)\n\u001b[0;32m   1502\u001b[0m \u001b[39m# Do not call functions when jit is used\u001b[39;00m\n\u001b[0;32m   1503\u001b[0m full_backward_hooks, non_full_backward_hooks \u001b[39m=\u001b[39m [], []\n",
      "File \u001b[1;32mc:\\Users\\João Vitor\\AppData\\Local\\Programs\\Python\\Python310\\lib\\site-packages\\transformers\\models\\bert\\modeling_bert.py:238\u001b[0m, in \u001b[0;36mBertEmbeddings.forward\u001b[1;34m(self, input_ids, token_type_ids, position_ids, inputs_embeds, past_key_values_length)\u001b[0m\n\u001b[0;32m    236\u001b[0m \u001b[39mif\u001b[39;00m \u001b[39mself\u001b[39m\u001b[39m.\u001b[39mposition_embedding_type \u001b[39m==\u001b[39m \u001b[39m\"\u001b[39m\u001b[39mabsolute\u001b[39m\u001b[39m\"\u001b[39m:\n\u001b[0;32m    237\u001b[0m     position_embeddings \u001b[39m=\u001b[39m \u001b[39mself\u001b[39m\u001b[39m.\u001b[39mposition_embeddings(position_ids)\n\u001b[1;32m--> 238\u001b[0m     embeddings \u001b[39m+\u001b[39m\u001b[39m=\u001b[39m position_embeddings\n\u001b[0;32m    239\u001b[0m embeddings \u001b[39m=\u001b[39m \u001b[39mself\u001b[39m\u001b[39m.\u001b[39mLayerNorm(embeddings)\n\u001b[0;32m    240\u001b[0m embeddings \u001b[39m=\u001b[39m \u001b[39mself\u001b[39m\u001b[39m.\u001b[39mdropout(embeddings)\n",
      "\u001b[1;31mRuntimeError\u001b[0m: The size of tensor a (729) must match the size of tensor b (512) at non-singleton dimension 1"
     ]
    }
   ],
   "source": [
    "import pandas as pd\n",
    "import torch\n",
    "import torch.nn.functional as F\n",
    "\n",
    "# Carrega um DataFrame pandas a partir de um arquivo CSV\n",
    "# Certifique-se de que seu arquivo CSV tem uma coluna chamada 'Frase' que contém as frases\n",
    "df = pd.read_csv('b2w.csv')  # Substitua 'seuarquivo.csv' pelo caminho para o seu arquivo CSV\n",
    "\n",
    "# Loop através das frases no DataFrame e classifique-as\n",
    "categorias = []\n",
    "for frase in df['review_text_processed']:\n",
    "    inputs = tokenizer(frase, return_tensors=\"pt\")\n",
    "    output = model(**inputs)\n",
    "    scores = output['logits']\n",
    "    prob_pos = F.softmax(scores, dim=1)[:, 1]\n",
    "\n",
    "    # Define a categoria com base nos limiares\n",
    "    if prob_pos[0] >= limiar_positivo:\n",
    "        categorias.append(\"positivo\")\n",
    "    elif prob_pos[0] <= limiar_negativo:\n",
    "        categorias.append(\"negativo\")\n",
    "    else:\n",
    "        categorias.append(\"neutro\")\n",
    "\n",
    "# Adicione as categorias como uma nova coluna no DataFrame\n",
    "df['Categoria'] = categorias\n",
    "\n",
    "# Salve o DataFrame modificado em um novo arquivo CSV\n",
    "df.to_csv('saida.csv', index=False)\n",
    "\n",
    "# Exibe o DataFrame com as categorias\n",
    "display(df)\n",
    "# print(df['Categoria'], ['review_text_processed'])"
   ]
  }
 ],
 "metadata": {
  "kernelspec": {
   "display_name": "Python 3",
   "language": "python",
   "name": "python3"
  },
  "language_info": {
   "codemirror_mode": {
    "name": "ipython",
    "version": 3
   },
   "file_extension": ".py",
   "mimetype": "text/x-python",
   "name": "python",
   "nbconvert_exporter": "python",
   "pygments_lexer": "ipython3",
   "version": "3.10.7"
  },
  "orig_nbformat": 4
 },
 "nbformat": 4,
 "nbformat_minor": 2
}
